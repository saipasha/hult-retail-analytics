{
 "cells": [
  {
   "cell_type": "code",
   "execution_count": 2,
   "id": "3f45587a",
   "metadata": {},
   "outputs": [],
   "source": [
    "import pandas as pd"
   ]
  },
  {
   "cell_type": "code",
   "execution_count": 5,
   "id": "5a486739",
   "metadata": {},
   "outputs": [
    {
     "data": {
      "text/plain": [
       "<bound method NDFrame.head of     product_id  category_id  brand_id       width      height       depth  \\\n",
       "0       101120          212        35  116.095343   84.726862  121.180416   \n",
       "1        28643          212        35   80.341427  113.268308  103.574290   \n",
       "2       103983          212        35  101.898435   87.046775   84.726862   \n",
       "3        21823          212        35  117.993334   75.588496  108.863367   \n",
       "4        21824          212        35  116.022102   90.853203  104.057607   \n",
       "..         ...          ...       ...         ...         ...         ...   \n",
       "64      109659          212       424  100.000000  150.000000  110.000000   \n",
       "65      109657          212       424  100.000000  150.000000  110.000000   \n",
       "66      109661          212       424  100.000000  150.000000  110.000000   \n",
       "67      109660          212       424  100.000000  150.000000  110.000000   \n",
       "68      109656          212       424  100.000000  150.000000  110.000000   \n",
       "\n",
       "      weight  monthly_demand      price  unit_margin  \n",
       "0   0.863353        6.333333  14.448980    10.785000  \n",
       "1   1.051726       14.333333  14.939252     8.326324  \n",
       "2   1.211804        1.666667   9.235294     8.974265  \n",
       "3   0.876497       11.666667  15.276304     8.174063  \n",
       "4   1.157446        7.666667  14.973333     7.591111  \n",
       "..       ...             ...        ...          ...  \n",
       "64  0.000850       25.000000   1.392000     0.860000  \n",
       "65  0.000850       30.333333   1.252581     0.773226  \n",
       "66  0.000850       30.000000   1.289722     0.757778  \n",
       "67  0.000850       27.333333   1.241765     0.767059  \n",
       "68  0.000850       25.000000   1.259091     0.781212  \n",
       "\n",
       "[69 rows x 10 columns]>"
      ]
     },
     "execution_count": 5,
     "metadata": {},
     "output_type": "execute_result"
    }
   ],
   "source": [
    "p = pd.read_csv(\"datasets/products_set_9.csv\")\n",
    "p.head"
   ]
  },
  {
   "cell_type": "code",
   "execution_count": 6,
   "id": "38bf6d32",
   "metadata": {},
   "outputs": [
    {
     "data": {
      "text/plain": [
       "<bound method NDFrame.head of     product_id  category_id  brand_id       width      height       depth  \\\n",
       "0       101120          212        35  116.095343   84.726862  121.180416   \n",
       "1        28643          212        35   80.341427  113.268308  103.574290   \n",
       "2       103983          212        35  101.898435   87.046775   84.726862   \n",
       "3        21823          212        35  117.993334   75.588496  108.863367   \n",
       "4        21824          212        35  116.022102   90.853203  104.057607   \n",
       "..         ...          ...       ...         ...         ...         ...   \n",
       "64      109659          212       424  100.000000  150.000000  110.000000   \n",
       "65      109657          212       424  100.000000  150.000000  110.000000   \n",
       "66      109661          212       424  100.000000  150.000000  110.000000   \n",
       "67      109660          212       424  100.000000  150.000000  110.000000   \n",
       "68      109656          212       424  100.000000  150.000000  110.000000   \n",
       "\n",
       "      weight  monthly_demand      price  unit_margin  monthly_profit  \\\n",
       "0   0.863353        6.333333  14.448980    10.785000       68.305000   \n",
       "1   1.051726       14.333333  14.939252     8.326324      119.343977   \n",
       "2   1.211804        1.666667   9.235294     8.974265       14.957108   \n",
       "3   0.876497       11.666667  15.276304     8.174063       95.364068   \n",
       "4   1.157446        7.666667  14.973333     7.591111       58.198518   \n",
       "..       ...             ...        ...          ...             ...   \n",
       "64  0.000850       25.000000   1.392000     0.860000       21.500000   \n",
       "65  0.000850       30.333333   1.252581     0.773226       23.454522   \n",
       "66  0.000850       30.000000   1.289722     0.757778       22.733340   \n",
       "67  0.000850       27.333333   1.241765     0.767059       20.966279   \n",
       "68  0.000850       25.000000   1.259091     0.781212       19.530300   \n",
       "\n",
       "    monthly_profit_per_width  \n",
       "0                   0.588353  \n",
       "1                   1.485460  \n",
       "2                   0.146784  \n",
       "3                   0.808216  \n",
       "4                   0.501616  \n",
       "..                       ...  \n",
       "64                  0.215000  \n",
       "65                  0.234545  \n",
       "66                  0.227333  \n",
       "67                  0.209663  \n",
       "68                  0.195303  \n",
       "\n",
       "[69 rows x 12 columns]>"
      ]
     },
     "execution_count": 6,
     "metadata": {},
     "output_type": "execute_result"
    }
   ],
   "source": [
    "# derived metrics\n",
    "p['monthly_profit'] = p['unit_margin'] * p['monthly_demand']\n",
    "p['monthly_profit_per_width'] = p['monthly_profit'] / p['width']\n",
    "p.head"
   ]
  },
  {
   "cell_type": "code",
   "execution_count": null,
   "id": "79f1b634",
   "metadata": {},
   "outputs": [],
   "source": [
    "# top products by monthly profit\n",
    "print(p.sort_values('monthly_profit', ascending=False).head(10))"
   ]
  },
  {
   "cell_type": "code",
   "execution_count": null,
   "id": "1b7a85f7",
   "metadata": {},
   "outputs": [],
   "source": [
    "# top products by monthly profit per unit width\n",
    "print(p.sort_values('monthly_profit_per_width', ascending=False).head(10))"
   ]
  },
  {
   "cell_type": "code",
   "execution_count": null,
   "id": "6146ad12",
   "metadata": {},
   "outputs": [],
   "source": [
    "# brands\n",
    "print(p.groupby('brand_id').count().iloc[:,1])"
   ]
  },
  {
   "cell_type": "code",
   "execution_count": null,
   "id": "4d4eb5b5",
   "metadata": {},
   "outputs": [],
   "source": [
    "# total width of all products\n",
    "print(p['width'].sum())"
   ]
  },
  {
   "cell_type": "code",
   "execution_count": null,
   "id": "9737ded8",
   "metadata": {},
   "outputs": [],
   "source": [
    "### suggestion: add a column of 1/0 for product facings\n",
    "### track total revenue, total width, products per brand"
   ]
  }
 ],
 "metadata": {
  "kernelspec": {
   "display_name": "Python 3",
   "language": "python",
   "name": "python3"
  },
  "language_info": {
   "codemirror_mode": {
    "name": "ipython",
    "version": 3
   },
   "file_extension": ".py",
   "mimetype": "text/x-python",
   "name": "python",
   "nbconvert_exporter": "python",
   "pygments_lexer": "ipython3",
   "version": "3.9.4"
  }
 },
 "nbformat": 4,
 "nbformat_minor": 5
}
